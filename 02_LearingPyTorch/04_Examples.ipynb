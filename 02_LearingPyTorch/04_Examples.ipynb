{
 "cells": [
  {
   "cell_type": "markdown",
   "metadata": {},
   "source": [
    "# Learning pytorch with examples"
   ]
  },
  {
   "cell_type": "code",
   "execution_count": 2,
   "metadata": {},
   "outputs": [
    {
     "name": "stdout",
     "output_type": "stream",
     "text": [
      "99 862.2911111994246\n",
      "199 573.533677429288\n",
      "299 382.4908617006414\n",
      "399 256.0892657393294\n",
      "499 172.45347092706726\n",
      "599 117.11198350153384\n",
      "699 80.49101874860406\n",
      "799 56.25672075439251\n",
      "899 40.21856957695957\n",
      "999 29.603986381767818\n",
      "1099 22.578473027279912\n",
      "1199 17.92816776460894\n",
      "1299 14.84983853967082\n",
      "1399 12.811947674556102\n",
      "1499 11.462732497202184\n",
      "1599 10.56938941729027\n",
      "1699 9.977835168357162\n",
      "1799 9.58608178558827\n",
      "1899 9.326618679197502\n",
      "1999 9.154754196794226\n",
      "Result: y= -0.0034891499717578833 + 0.8391699250178202x + 0.0006019364298343808x^2 + -0.09083107895603855x^3\n"
     ]
    }
   ],
   "source": [
    "# Numpy\n",
    "\n",
    "import numpy as np\n",
    "import math\n",
    "\n",
    "x = np.linspace(-math.pi, math.pi, 2000)\n",
    "y= np.sin(x)\n",
    "\n",
    "a = np.random.randn()\n",
    "b = np.random.randn()\n",
    "c = np.random.randn()\n",
    "d = np.random.randn()\n",
    "\n",
    "learning_rate = 1e-6\n",
    "\n",
    "for t in range(2000):\n",
    "    y_pred = a + b * x + c *x ** 2 + d * x ** 3\n",
    "    loss = np.square(y_pred - y).sum()\n",
    "    if t % 100 == 99:\n",
    "        print(t, loss)\n",
    "\n",
    "    grad_y_pred = 2.0 * (y_pred - y)\n",
    "    grad_a = grad_y_pred.sum()\n",
    "    grad_b = (grad_y_pred * x).sum()\n",
    "    grad_c = (grad_y_pred * x ** 2).sum()\n",
    "    grad_d = (grad_y_pred * x ** 3).sum()\n",
    "\n",
    "    a -= learning_rate * grad_a\n",
    "    b -= learning_rate * grad_b\n",
    "    c -= learning_rate * grad_c\n",
    "    d -= learning_rate * grad_d\n",
    "\n",
    "print(f\"Result: y= {a} + {b}x + {c}x^2 + {d}x^3\")\n"
   ]
  },
  {
   "cell_type": "code",
   "execution_count": 4,
   "metadata": {},
   "outputs": [
    {
     "name": "stdout",
     "output_type": "stream",
     "text": [
      "99 1727.7498779296875\n",
      "199 1176.933837890625\n",
      "299 803.506103515625\n",
      "399 550.06591796875\n",
      "499 377.87103271484375\n",
      "599 260.7464294433594\n",
      "699 180.99053955078125\n",
      "799 126.61917877197266\n",
      "899 89.51066589355469\n",
      "999 64.15493774414062\n",
      "1099 46.809871673583984\n",
      "1199 34.93098449707031\n",
      "1299 26.78632354736328\n",
      "1399 21.195621490478516\n",
      "1499 17.353641510009766\n",
      "1599 14.710472106933594\n",
      "1699 12.890019416809082\n",
      "1799 11.63481330871582\n",
      "1899 10.768428802490234\n",
      "1999 10.169775009155273\n",
      "Result: y= -0.032633986324071884 + 0.8372487425804138x + 0.005629905965179205x^2 + -0.09055780619382858x^3\n"
     ]
    }
   ],
   "source": [
    "# Tensors\n",
    "\n",
    "import torch\n",
    "import math\n",
    "\n",
    "dtype = torch.float\n",
    "device = torch.device(\"cpu\")\n",
    "\n",
    "x = torch.linspace(-math.pi, math.pi, 2000, device=device, dtype=dtype)\n",
    "y= torch.sin(x)\n",
    "\n",
    "a = torch.randn((), device=device, dtype=dtype)\n",
    "b = torch.randn((), device=device, dtype=dtype)\n",
    "c = torch.randn((), device=device, dtype=dtype)\n",
    "d = torch.randn((), device=device, dtype=dtype)\n",
    "\n",
    "learning_rate = 1e-6\n",
    "\n",
    "for t in range(2000):\n",
    "    y_pred = a + b * x + c * x ** 2 + d * x ** 3\n",
    "    loss = (y_pred - y).pow(2).sum().item()\n",
    "    if t % 100 == 99:\n",
    "        print(t, loss)\n",
    "\n",
    "    grad_y_pred = 2.0 * (y_pred - y)\n",
    "    grad_a = grad_y_pred.sum()\n",
    "    grad_b = (grad_y_pred * x).sum()\n",
    "    grad_c = (grad_y_pred * x ** 2).sum()\n",
    "    grad_d = (grad_y_pred * x ** 3).sum()\n",
    "\n",
    "    a -= learning_rate * grad_a\n",
    "    b -= learning_rate * grad_b\n",
    "    c -= learning_rate * grad_c\n",
    "    d -= learning_rate * grad_d\n",
    "\n",
    "print(f\"Result: y= {a} + {b}x + {c}x^2 + {d}x^3\")"
   ]
  },
  {
   "cell_type": "code",
   "execution_count": 9,
   "metadata": {},
   "outputs": [
    {
     "name": "stdout",
     "output_type": "stream",
     "text": [
      "99 tensor(1109.7230, grad_fn=<MseLossBackward0>)\n",
      "199 tensor(742.8633, grad_fn=<MseLossBackward0>)\n",
      "299 tensor(498.5023, grad_fn=<MseLossBackward0>)\n",
      "399 tensor(335.6626, grad_fn=<MseLossBackward0>)\n",
      "499 tensor(227.0957, grad_fn=<MseLossBackward0>)\n",
      "599 tensor(154.6768, grad_fn=<MseLossBackward0>)\n",
      "699 tensor(106.3445, grad_fn=<MseLossBackward0>)\n",
      "799 tensor(74.0697, grad_fn=<MseLossBackward0>)\n",
      "899 tensor(52.5051, grad_fn=<MseLossBackward0>)\n",
      "999 tensor(38.0877, grad_fn=<MseLossBackward0>)\n",
      "1099 tensor(28.4425, grad_fn=<MseLossBackward0>)\n",
      "1199 tensor(21.9856, grad_fn=<MseLossBackward0>)\n",
      "1299 tensor(17.6601, grad_fn=<MseLossBackward0>)\n",
      "1399 tensor(14.7604, grad_fn=<MseLossBackward0>)\n",
      "1499 tensor(12.8149, grad_fn=<MseLossBackward0>)\n",
      "1599 tensor(11.5086, grad_fn=<MseLossBackward0>)\n",
      "1699 tensor(10.6308, grad_fn=<MseLossBackward0>)\n",
      "1799 tensor(10.0405, grad_fn=<MseLossBackward0>)\n",
      "1899 tensor(9.6431, grad_fn=<MseLossBackward0>)\n",
      "1999 tensor(9.3753, grad_fn=<MseLossBackward0>)\n",
      "Result: y = 0.014334382489323616 + 0.8379221558570862 x + -0.0024729198776185513 x^2 + -0.09065359085798264 x^3\n"
     ]
    }
   ],
   "source": [
    "# Auto Grad\n",
    "# nn\n",
    "\n",
    "import torch\n",
    "import math\n",
    "\n",
    "dtype = torch.float\n",
    "device = torch.device(\"cpu\")\n",
    "\n",
    "x = torch.linspace(-math.pi, math.pi, 2000)\n",
    "y= torch.sin(x)\n",
    "\n",
    "p = torch.tensor([1, 2, 3])\n",
    "xx = x.unsqueeze(-1).pow(p)\n",
    "\n",
    "\n",
    "model = torch.nn.Sequential(\n",
    "    torch.nn.Linear(3, 1),\n",
    "    torch.nn.Flatten(0, 1)\n",
    ")\n",
    "\n",
    "loss_fn = torch.nn.MSELoss(reduction=\"sum\")\n",
    "\n",
    "learning_rate = 1e-6\n",
    "\n",
    "for t in range(2000):\n",
    "    y_pred = model(xx)\n",
    "    loss = loss_fn(y_pred, y)\n",
    "    if t % 100 == 99:\n",
    "        print(t, loss)\n",
    "\n",
    "    model.zero_grad()\n",
    "    loss.backward()\n",
    "\n",
    "    with torch.no_grad():\n",
    "        for param in model.parameters():\n",
    "            param -= learning_rate * param.grad\n",
    "\n",
    "linear_layer = model[0]\n",
    "\n",
    "print(f'Result: y = {linear_layer.bias.item()} + {linear_layer.weight[:, 0].item()} x + {linear_layer.weight[:, 1].item()} x^2 + {linear_layer.weight[:, 2].item()} x^3')"
   ]
  },
  {
   "cell_type": "code",
   "execution_count": null,
   "metadata": {},
   "outputs": [],
   "source": []
  }
 ],
 "metadata": {
  "kernelspec": {
   "display_name": "Python 3.10.4 ('aiWs')",
   "language": "python",
   "name": "python3"
  },
  "language_info": {
   "codemirror_mode": {
    "name": "ipython",
    "version": 3
   },
   "file_extension": ".py",
   "mimetype": "text/x-python",
   "name": "python",
   "nbconvert_exporter": "python",
   "pygments_lexer": "ipython3",
   "version": "3.10.4"
  },
  "orig_nbformat": 4,
  "vscode": {
   "interpreter": {
    "hash": "764ba4b8d6f2362b477200584944158c9736904205cbc7cf7caf94c24ea1b1a3"
   }
  }
 },
 "nbformat": 4,
 "nbformat_minor": 2
}
