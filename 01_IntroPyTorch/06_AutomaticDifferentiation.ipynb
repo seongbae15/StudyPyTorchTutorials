{
 "cells": [
  {
   "cell_type": "markdown",
   "metadata": {},
   "source": [
    "# Automatic differentiation wiht torch.autograd"
   ]
  },
  {
   "cell_type": "code",
   "execution_count": 1,
   "metadata": {},
   "outputs": [],
   "source": [
    "import torch\n",
    "\n",
    "x = torch.ones(5)\n",
    "y = torch.zeros(3)\n",
    "w = torch.randn(5, 3, requires_grad=True)\n",
    "b = torch.randn(3, requires_grad=True)\n",
    "z = torch.matmul(x, w) + b\n",
    "loss = torch.nn.functional.binary_cross_entropy_with_logits(z, y)"
   ]
  },
  {
   "cell_type": "code",
   "execution_count": 3,
   "metadata": {},
   "outputs": [
    {
     "name": "stdout",
     "output_type": "stream",
     "text": [
      "<AddBackward0 object at 0x0000019BDE1EA050>\n",
      "<BinaryCrossEntropyWithLogitsBackward0 object at 0x0000019BDD747F40>\n"
     ]
    }
   ],
   "source": [
    "# Tensro, Functions and Computational Graph\n",
    "\n",
    "print(f\"{z.grad_fn}\")\n",
    "print(f\"{loss.grad_fn}\")"
   ]
  },
  {
   "cell_type": "code",
   "execution_count": 4,
   "metadata": {},
   "outputs": [
    {
     "name": "stdout",
     "output_type": "stream",
     "text": [
      "tensor([[-0.3599,  1.4094, -0.6034],\n",
      "        [-1.0057,  2.3251, -0.6218],\n",
      "        [ 1.5153,  0.4902, -0.5081],\n",
      "        [-0.0728,  0.1620,  1.5166],\n",
      "        [ 0.7033,  0.1950, -0.3373]], requires_grad=True)\n",
      "tensor([-0.5195,  0.9922,  2.3250], requires_grad=True)\n",
      "tensor([[0.1883, 0.3321, 0.2849],\n",
      "        [0.1883, 0.3321, 0.2849],\n",
      "        [0.1883, 0.3321, 0.2849],\n",
      "        [0.1883, 0.3321, 0.2849],\n",
      "        [0.1883, 0.3321, 0.2849]])\n",
      "tensor([0.1883, 0.3321, 0.2849])\n"
     ]
    }
   ],
   "source": [
    "#  Computing Garadients\n",
    "\n",
    "loss.backward()\n",
    "print(w)\n",
    "print(b)\n",
    "print(w.grad)\n",
    "print(b.grad)"
   ]
  },
  {
   "cell_type": "code",
   "execution_count": 5,
   "metadata": {},
   "outputs": [
    {
     "name": "stdout",
     "output_type": "stream",
     "text": [
      "True\n",
      "False\n"
     ]
    }
   ],
   "source": [
    "# Disabling Gradient Tracking\n",
    "\n",
    "z = torch.matmul(x, w) + b\n",
    "print(z.requires_grad)\n",
    "\n",
    "with torch.no_grad():\n",
    "    z = torch.matmul(x, w) + b\n",
    "print(z.requires_grad)"
   ]
  },
  {
   "cell_type": "code",
   "execution_count": 6,
   "metadata": {},
   "outputs": [
    {
     "name": "stdout",
     "output_type": "stream",
     "text": [
      "False\n"
     ]
    }
   ],
   "source": [
    "z = torch.matmul(x, w) + b\n",
    "z_det = z.detach()\n",
    "print(z_det.requires_grad)"
   ]
  },
  {
   "cell_type": "code",
   "execution_count": null,
   "metadata": {},
   "outputs": [],
   "source": []
  }
 ],
 "metadata": {
  "kernelspec": {
   "display_name": "Python 3.10.4 ('aiWs')",
   "language": "python",
   "name": "python3"
  },
  "language_info": {
   "codemirror_mode": {
    "name": "ipython",
    "version": 3
   },
   "file_extension": ".py",
   "mimetype": "text/x-python",
   "name": "python",
   "nbconvert_exporter": "python",
   "pygments_lexer": "ipython3",
   "version": "3.10.4"
  },
  "orig_nbformat": 4,
  "vscode": {
   "interpreter": {
    "hash": "764ba4b8d6f2362b477200584944158c9736904205cbc7cf7caf94c24ea1b1a3"
   }
  }
 },
 "nbformat": 4,
 "nbformat_minor": 2
}
